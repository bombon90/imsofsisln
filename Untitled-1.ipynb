{
 "cells": [
  {
   "cell_type": "code",
   "execution_count": null,
   "metadata": {},
   "outputs": [],
   "source": [
    "from datetime import datetime\n",
    "\n",
    "ahora = datetime.now()\n",
    "print(ahora.year)#Año de hoy\n",
    "print(ahora.strftime('%A'))#dia de hoy\n",
    "fecha = datetime(2025,8,14)\n",
    "print(fecha.strftime('%B'))# 08,14,2025\n",
    "\n",
    "str_fecha = '14/08/2025 14:58:00'\n",
    "fecha_obj = datetime.strptime(str_fecha,'%d/%m/%y %h:/m:/s')\n",
    "print(ahora-fecha_obj)\n"
   ]
  }
 ],
 "metadata": {
  "language_info": {
   "name": "python"
  }
 },
 "nbformat": 4,
 "nbformat_minor": 2
}
